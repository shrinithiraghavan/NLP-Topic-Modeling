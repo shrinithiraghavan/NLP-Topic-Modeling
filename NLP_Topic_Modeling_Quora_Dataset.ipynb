{
 "cells": [
  {
   "cell_type": "code",
   "execution_count": 1,
   "metadata": {},
   "outputs": [
    {
     "name": "stdout",
     "output_type": "stream",
     "text": [
      "Requirement already satisfied: fbpca in c:\\programdata\\anaconda3\\lib\\site-packages (1.0)\n",
      "Note: you may need to restart the kernel to use updated packages.\n"
     ]
    }
   ],
   "source": [
    "pip install fbpca"
   ]
  },
  {
   "cell_type": "code",
   "execution_count": 2,
   "metadata": {},
   "outputs": [
    {
     "name": "stderr",
     "output_type": "stream",
     "text": [
      "[nltk_data] Downloading package wordnet to\n",
      "[nltk_data]     C:\\Users\\Shylu\\AppData\\Roaming\\nltk_data...\n",
      "[nltk_data]   Package wordnet is already up-to-date!\n"
     ]
    }
   ],
   "source": [
    "import nltk\n",
    "import pandas as pd\n",
    "import numpy as np\n",
    "from sklearn.feature_extraction.text import CountVectorizer, TfidfVectorizer\n",
    "from sklearn.model_selection import train_test_split\n",
    "from sklearn.decomposition import TruncatedSVD, NMF, randomized_svd, LatentDirichletAllocation\n",
    "import fbpca\n",
    "import random\n",
    "from sklearn import decomposition\n",
    "from scipy import linalg\n",
    "import matplotlib.pyplot as plt\n",
    "from nltk.stem.snowball import SnowballStemmer\n",
    "from nltk.corpus import stopwords\n",
    "nltk.download('wordnet')\n",
    "from nltk.stem import WordNetLemmatizer "
   ]
  },
  {
   "cell_type": "code",
   "execution_count": 3,
   "metadata": {},
   "outputs": [
    {
     "data": {
      "text/html": [
       "<div>\n",
       "<style scoped>\n",
       "    .dataframe tbody tr th:only-of-type {\n",
       "        vertical-align: middle;\n",
       "    }\n",
       "\n",
       "    .dataframe tbody tr th {\n",
       "        vertical-align: top;\n",
       "    }\n",
       "\n",
       "    .dataframe thead th {\n",
       "        text-align: right;\n",
       "    }\n",
       "</style>\n",
       "<table border=\"1\" class=\"dataframe\">\n",
       "  <thead>\n",
       "    <tr style=\"text-align: right;\">\n",
       "      <th></th>\n",
       "      <th>Question</th>\n",
       "    </tr>\n",
       "  </thead>\n",
       "  <tbody>\n",
       "    <tr>\n",
       "      <td>0</td>\n",
       "      <td>What is the step by step guide to invest in sh...</td>\n",
       "    </tr>\n",
       "    <tr>\n",
       "      <td>1</td>\n",
       "      <td>What is the story of Kohinoor (Koh-i-Noor) Dia...</td>\n",
       "    </tr>\n",
       "    <tr>\n",
       "      <td>2</td>\n",
       "      <td>How can I increase the speed of my internet co...</td>\n",
       "    </tr>\n",
       "    <tr>\n",
       "      <td>3</td>\n",
       "      <td>Why am I mentally very lonely? How can I solve...</td>\n",
       "    </tr>\n",
       "    <tr>\n",
       "      <td>4</td>\n",
       "      <td>Which one dissolve in water quikly sugar, salt...</td>\n",
       "    </tr>\n",
       "    <tr>\n",
       "      <td>...</td>\n",
       "      <td>...</td>\n",
       "    </tr>\n",
       "    <tr>\n",
       "      <td>404284</td>\n",
       "      <td>How many keywords are there in the Racket prog...</td>\n",
       "    </tr>\n",
       "    <tr>\n",
       "      <td>404285</td>\n",
       "      <td>Do you believe there is life after death?</td>\n",
       "    </tr>\n",
       "    <tr>\n",
       "      <td>404286</td>\n",
       "      <td>What is one coin?</td>\n",
       "    </tr>\n",
       "    <tr>\n",
       "      <td>404287</td>\n",
       "      <td>What is the approx annual cost of living while...</td>\n",
       "    </tr>\n",
       "    <tr>\n",
       "      <td>404288</td>\n",
       "      <td>What is like to have sex with cousin?</td>\n",
       "    </tr>\n",
       "  </tbody>\n",
       "</table>\n",
       "<p>404289 rows × 1 columns</p>\n",
       "</div>"
      ],
      "text/plain": [
       "                                                 Question\n",
       "0       What is the step by step guide to invest in sh...\n",
       "1       What is the story of Kohinoor (Koh-i-Noor) Dia...\n",
       "2       How can I increase the speed of my internet co...\n",
       "3       Why am I mentally very lonely? How can I solve...\n",
       "4       Which one dissolve in water quikly sugar, salt...\n",
       "...                                                   ...\n",
       "404284  How many keywords are there in the Racket prog...\n",
       "404285          Do you believe there is life after death?\n",
       "404286                                  What is one coin?\n",
       "404287  What is the approx annual cost of living while...\n",
       "404288              What is like to have sex with cousin?\n",
       "\n",
       "[404289 rows x 1 columns]"
      ]
     },
     "execution_count": 3,
     "metadata": {},
     "output_type": "execute_result"
    }
   ],
   "source": [
    "#file import\n",
    "#============\n",
    "\n",
    "df = pd.read_csv(\"quora_questions.csv\", encoding = \"ISO-8859-1\")\n",
    "df #.describe()"
   ]
  },
  {
   "cell_type": "code",
   "execution_count": 4,
   "metadata": {},
   "outputs": [],
   "source": [
    "# taking only the first 50,000 documents to avoid memory error\n",
    "#=============================================================\n",
    "#df = df_orig.head(50000)"
   ]
  },
  {
   "cell_type": "markdown",
   "metadata": {},
   "source": [
    "# Data Preprocessing"
   ]
  },
  {
   "cell_type": "code",
   "execution_count": 5,
   "metadata": {},
   "outputs": [
    {
     "data": {
      "text/html": [
       "<div>\n",
       "<style scoped>\n",
       "    .dataframe tbody tr th:only-of-type {\n",
       "        vertical-align: middle;\n",
       "    }\n",
       "\n",
       "    .dataframe tbody tr th {\n",
       "        vertical-align: top;\n",
       "    }\n",
       "\n",
       "    .dataframe thead th {\n",
       "        text-align: right;\n",
       "    }\n",
       "</style>\n",
       "<table border=\"1\" class=\"dataframe\">\n",
       "  <thead>\n",
       "    <tr style=\"text-align: right;\">\n",
       "      <th></th>\n",
       "      <th>Question</th>\n",
       "    </tr>\n",
       "  </thead>\n",
       "  <tbody>\n",
       "    <tr>\n",
       "      <td>0</td>\n",
       "      <td>what is the step by step guide to invest in sh...</td>\n",
       "    </tr>\n",
       "    <tr>\n",
       "      <td>1</td>\n",
       "      <td>what is the story of kohinoor kohinoor diamond</td>\n",
       "    </tr>\n",
       "    <tr>\n",
       "      <td>2</td>\n",
       "      <td>how can i increase the speed of my internet co...</td>\n",
       "    </tr>\n",
       "    <tr>\n",
       "      <td>3</td>\n",
       "      <td>why am i mentally very lonely how can i solve it</td>\n",
       "    </tr>\n",
       "    <tr>\n",
       "      <td>4</td>\n",
       "      <td>which one dissolve in water quikly sugar salt ...</td>\n",
       "    </tr>\n",
       "    <tr>\n",
       "      <td>...</td>\n",
       "      <td>...</td>\n",
       "    </tr>\n",
       "    <tr>\n",
       "      <td>404284</td>\n",
       "      <td>how many keywords are there in the racket prog...</td>\n",
       "    </tr>\n",
       "    <tr>\n",
       "      <td>404285</td>\n",
       "      <td>do you believe there is life after death</td>\n",
       "    </tr>\n",
       "    <tr>\n",
       "      <td>404286</td>\n",
       "      <td>what is one coin</td>\n",
       "    </tr>\n",
       "    <tr>\n",
       "      <td>404287</td>\n",
       "      <td>what is the approx annual cost of living while...</td>\n",
       "    </tr>\n",
       "    <tr>\n",
       "      <td>404288</td>\n",
       "      <td>what is like to have sex with cousin</td>\n",
       "    </tr>\n",
       "  </tbody>\n",
       "</table>\n",
       "<p>404289 rows × 1 columns</p>\n",
       "</div>"
      ],
      "text/plain": [
       "                                                 Question\n",
       "0       what is the step by step guide to invest in sh...\n",
       "1          what is the story of kohinoor kohinoor diamond\n",
       "2       how can i increase the speed of my internet co...\n",
       "3        why am i mentally very lonely how can i solve it\n",
       "4       which one dissolve in water quikly sugar salt ...\n",
       "...                                                   ...\n",
       "404284  how many keywords are there in the racket prog...\n",
       "404285           do you believe there is life after death\n",
       "404286                                   what is one coin\n",
       "404287  what is the approx annual cost of living while...\n",
       "404288               what is like to have sex with cousin\n",
       "\n",
       "[404289 rows x 1 columns]"
      ]
     },
     "execution_count": 5,
     "metadata": {},
     "output_type": "execute_result"
    }
   ],
   "source": [
    "df['Question']=df['Question'].str.lower()  #convert to lower case\n",
    "df['Question']=df['Question'].str.replace('\\d+','') # remove numbers\n",
    "df['Question']=df['Question'].str.replace('<.*?>','') # remove HTML tags\n",
    "df['Question']=df['Question'].str.replace('[^\\w\\s]','') # remove punctuation  \n",
    "df"
   ]
  },
  {
   "cell_type": "code",
   "execution_count": 6,
   "metadata": {},
   "outputs": [
    {
     "data": {
      "text/html": [
       "<div>\n",
       "<style scoped>\n",
       "    .dataframe tbody tr th:only-of-type {\n",
       "        vertical-align: middle;\n",
       "    }\n",
       "\n",
       "    .dataframe tbody tr th {\n",
       "        vertical-align: top;\n",
       "    }\n",
       "\n",
       "    .dataframe thead th {\n",
       "        text-align: right;\n",
       "    }\n",
       "</style>\n",
       "<table border=\"1\" class=\"dataframe\">\n",
       "  <thead>\n",
       "    <tr style=\"text-align: right;\">\n",
       "      <th></th>\n",
       "      <th>Question</th>\n",
       "    </tr>\n",
       "  </thead>\n",
       "  <tbody>\n",
       "    <tr>\n",
       "      <td>0</td>\n",
       "      <td>what is the step by step guide to invest in sh...</td>\n",
       "    </tr>\n",
       "    <tr>\n",
       "      <td>1</td>\n",
       "      <td>what is the story of kohinoor kohinoor diamond</td>\n",
       "    </tr>\n",
       "    <tr>\n",
       "      <td>2</td>\n",
       "      <td>how can i increase the speed of my internet co...</td>\n",
       "    </tr>\n",
       "    <tr>\n",
       "      <td>3</td>\n",
       "      <td>why am i mentally very lonely how can i solve it</td>\n",
       "    </tr>\n",
       "    <tr>\n",
       "      <td>4</td>\n",
       "      <td>which one dissolve in water quikly sugar salt ...</td>\n",
       "    </tr>\n",
       "    <tr>\n",
       "      <td>...</td>\n",
       "      <td>...</td>\n",
       "    </tr>\n",
       "    <tr>\n",
       "      <td>404284</td>\n",
       "      <td>how many keywords are there in the racket prog...</td>\n",
       "    </tr>\n",
       "    <tr>\n",
       "      <td>404285</td>\n",
       "      <td>do you believe there is life after death</td>\n",
       "    </tr>\n",
       "    <tr>\n",
       "      <td>404286</td>\n",
       "      <td>what is one coin</td>\n",
       "    </tr>\n",
       "    <tr>\n",
       "      <td>404287</td>\n",
       "      <td>what is the approx annual cost of living while...</td>\n",
       "    </tr>\n",
       "    <tr>\n",
       "      <td>404288</td>\n",
       "      <td>what is like to have sex with cousin</td>\n",
       "    </tr>\n",
       "  </tbody>\n",
       "</table>\n",
       "<p>404289 rows × 1 columns</p>\n",
       "</div>"
      ],
      "text/plain": [
       "                                                 Question\n",
       "0       what is the step by step guide to invest in sh...\n",
       "1          what is the story of kohinoor kohinoor diamond\n",
       "2       how can i increase the speed of my internet co...\n",
       "3        why am i mentally very lonely how can i solve it\n",
       "4       which one dissolve in water quikly sugar salt ...\n",
       "...                                                   ...\n",
       "404284  how many keywords are there in the racket prog...\n",
       "404285           do you believe there is life after death\n",
       "404286                                   what is one coin\n",
       "404287  what is the approx annual cost of living while...\n",
       "404288               what is like to have sex with cousin\n",
       "\n",
       "[404289 rows x 1 columns]"
      ]
     },
     "execution_count": 6,
     "metadata": {},
     "output_type": "execute_result"
    }
   ],
   "source": [
    "#lemmatization\n",
    "#===============\n",
    "\n",
    "lemmatizer = WordNetLemmatizer()\n",
    "df['Question']=df['Question'].apply(lambda x: \" \".join([lemmatizer.lemmatize(word) for word in x.split()]))\n",
    "df"
   ]
  },
  {
   "cell_type": "code",
   "execution_count": 7,
   "metadata": {},
   "outputs": [],
   "source": [
    "# stemming\n",
    "\n",
    "#st = SnowballStemmer('english')\n",
    "#df['Question']=df['Question'].apply(lambda x: \" \".join([st.stem(word) for word in x.split()]))\n",
    "#df"
   ]
  },
  {
   "cell_type": "code",
   "execution_count": 8,
   "metadata": {},
   "outputs": [
    {
     "data": {
      "text/html": [
       "<div>\n",
       "<style scoped>\n",
       "    .dataframe tbody tr th:only-of-type {\n",
       "        vertical-align: middle;\n",
       "    }\n",
       "\n",
       "    .dataframe tbody tr th {\n",
       "        vertical-align: top;\n",
       "    }\n",
       "\n",
       "    .dataframe thead th {\n",
       "        text-align: right;\n",
       "    }\n",
       "</style>\n",
       "<table border=\"1\" class=\"dataframe\">\n",
       "  <thead>\n",
       "    <tr style=\"text-align: right;\">\n",
       "      <th></th>\n",
       "      <th>Question</th>\n",
       "    </tr>\n",
       "  </thead>\n",
       "  <tbody>\n",
       "    <tr>\n",
       "      <td>0</td>\n",
       "      <td>step step guide invest share market india</td>\n",
       "    </tr>\n",
       "    <tr>\n",
       "      <td>1</td>\n",
       "      <td>story kohinoor kohinoor diamond</td>\n",
       "    </tr>\n",
       "    <tr>\n",
       "      <td>2</td>\n",
       "      <td>increase speed internet connection using vpn</td>\n",
       "    </tr>\n",
       "    <tr>\n",
       "      <td>3</td>\n",
       "      <td>mentally lonely solve</td>\n",
       "    </tr>\n",
       "    <tr>\n",
       "      <td>4</td>\n",
       "      <td>one dissolve water quikly sugar salt methane c...</td>\n",
       "    </tr>\n",
       "    <tr>\n",
       "      <td>...</td>\n",
       "      <td>...</td>\n",
       "    </tr>\n",
       "    <tr>\n",
       "      <td>404284</td>\n",
       "      <td>many keywords racket programming language late...</td>\n",
       "    </tr>\n",
       "    <tr>\n",
       "      <td>404285</td>\n",
       "      <td>believe life death</td>\n",
       "    </tr>\n",
       "    <tr>\n",
       "      <td>404286</td>\n",
       "      <td>one coin</td>\n",
       "    </tr>\n",
       "    <tr>\n",
       "      <td>404287</td>\n",
       "      <td>approx annual cost living studying uic chicago...</td>\n",
       "    </tr>\n",
       "    <tr>\n",
       "      <td>404288</td>\n",
       "      <td>like sex cousin</td>\n",
       "    </tr>\n",
       "  </tbody>\n",
       "</table>\n",
       "<p>404289 rows × 1 columns</p>\n",
       "</div>"
      ],
      "text/plain": [
       "                                                 Question\n",
       "0               step step guide invest share market india\n",
       "1                         story kohinoor kohinoor diamond\n",
       "2            increase speed internet connection using vpn\n",
       "3                                   mentally lonely solve\n",
       "4       one dissolve water quikly sugar salt methane c...\n",
       "...                                                   ...\n",
       "404284  many keywords racket programming language late...\n",
       "404285                                 believe life death\n",
       "404286                                           one coin\n",
       "404287  approx annual cost living studying uic chicago...\n",
       "404288                                    like sex cousin\n",
       "\n",
       "[404289 rows x 1 columns]"
      ]
     },
     "execution_count": 8,
     "metadata": {},
     "output_type": "execute_result"
    }
   ],
   "source": [
    "# remove stopwords\n",
    "\n",
    "stop = stopwords.words('english')\n",
    "df['Question'] = df['Question'].apply(lambda x: \" \".join(x for x in x.split() if x not in stop))\n",
    "df"
   ]
  },
  {
   "cell_type": "code",
   "execution_count": 9,
   "metadata": {},
   "outputs": [
    {
     "name": "stdout",
     "output_type": "stream",
     "text": [
      "283002\n",
      "121287\n"
     ]
    }
   ],
   "source": [
    "df_train, df_test = train_test_split(df,train_size=0.7, test_size=0.3, random_state=0)\n",
    "\n",
    "print(len(df_train))\n",
    "print(len(df_test))"
   ]
  },
  {
   "cell_type": "code",
   "execution_count": 10,
   "metadata": {},
   "outputs": [],
   "source": [
    "tfidf = TfidfVectorizer(max_df=0.95, min_df=2, stop_words='english')"
   ]
  },
  {
   "cell_type": "code",
   "execution_count": 11,
   "metadata": {},
   "outputs": [
    {
     "data": {
      "text/plain": [
       "(283002, 29464)"
      ]
     },
     "execution_count": 11,
     "metadata": {},
     "output_type": "execute_result"
    }
   ],
   "source": [
    "train_vectors = tfidf.fit_transform(df_train['Question']) #.todense() \n",
    "train_vectors.shape # (documents, vocab)"
   ]
  },
  {
   "cell_type": "code",
   "execution_count": 12,
   "metadata": {},
   "outputs": [
    {
     "name": "stdout",
     "output_type": "stream",
     "text": [
      "(29464,)\n"
     ]
    },
    {
     "data": {
      "text/plain": [
       "array(['eenadu', 'effect', 'effected', 'effective', 'effectively',\n",
       "       'effectiveness', 'effectvely', 'efficacy', 'efficiency',\n",
       "       'efficient', 'efficiently', 'effort', 'effortlessly', 'efiling',\n",
       "       'eftpos', 'egalitarian', 'egg', 'eggless', 'eggshell', 'egift',\n",
       "       'ego', 'egocentric', 'egocãntrico', 'egoism', 'egoist', 'egoistic',\n",
       "       'egypt', 'egyptian', 'egyptology', 'ehr', 'eid', 'eie', 'eiffel',\n",
       "       'eigen', 'eigenvalue', 'eigenvectors', 'eighteen', 'eighth', 'ein',\n",
       "       'einstein', 'eintax', 'eis', 'eisenhower', 'eit', 'eitheror',\n",
       "       'ejabberd', 'ejaculate', 'ejaculated', 'ejaculating',\n",
       "       'ejaculation'], dtype='<U86')"
      ]
     },
     "execution_count": 12,
     "metadata": {},
     "output_type": "execute_result"
    }
   ],
   "source": [
    "test_vectors = tfidf.transform(df_test['Question']) #.todense() \n",
    "vocab = np.array(tfidf.get_feature_names())\n",
    "print(vocab.shape)\n",
    "vocab[8000:8050]"
   ]
  },
  {
   "cell_type": "code",
   "execution_count": 13,
   "metadata": {},
   "outputs": [
    {
     "name": "stdout",
     "output_type": "stream",
     "text": [
      "29464\n",
      "wolfram\n",
      "sulfide\n",
      "homeschooled\n",
      "sastra\n",
      "ligation\n",
      "njac\n",
      "graduating\n",
      "rancid\n",
      "sicario\n",
      "biotechnology\n"
     ]
    }
   ],
   "source": [
    "print(len(tfidf.get_feature_names()))\n",
    "\n",
    "#print the random 10 words\n",
    "#===========================\n",
    "for i in range(10):\n",
    "    random_word_id = random.randint(0,29464)\n",
    "    print(tfidf.get_feature_names()[random_word_id])"
   ]
  },
  {
   "cell_type": "code",
   "execution_count": 14,
   "metadata": {},
   "outputs": [],
   "source": [
    "def plot_important_features(coef, feature_names, top_n=20, ax=None):\n",
    "    if ax is None:\n",
    "        ax = plt.gca()\n",
    "    inds = np.argsort(np.abs(coef))[-top_n:]\n",
    "    important_coefs = coef[inds]\n",
    "    sort_sign = np.argsort(important_coefs)\n",
    "    myrange = range(len(inds))\n",
    "    combined_inds = inds[sort_sign]\n",
    "\n",
    "    ax.bar(myrange, coef[combined_inds])\n",
    "    ax.set_xticks(myrange)\n",
    "    ax.set_xticklabels(feature_names[combined_inds], rotation=60, ha=\"right\")"
   ]
  },
  {
   "cell_type": "markdown",
   "metadata": {},
   "source": [
    "# Truncated SVD"
   ]
  },
  {
   "cell_type": "code",
   "execution_count": 15,
   "metadata": {},
   "outputs": [
    {
     "data": {
      "text/plain": [
       "TruncatedSVD(algorithm='randomized', n_components=8, n_iter=5, random_state=42,\n",
       "             tol=0.0)"
      ]
     },
     "execution_count": 15,
     "metadata": {},
     "output_type": "execute_result"
    }
   ],
   "source": [
    "model_tsvd = TruncatedSVD(n_components=8,random_state=42)\n",
    "\n",
    "# fit the model to train data\n",
    "#==============================\n",
    "model_tsvd.fit(train_vectors)"
   ]
  },
  {
   "cell_type": "code",
   "execution_count": 16,
   "metadata": {},
   "outputs": [
    {
     "name": "stdout",
     "output_type": "stream",
     "text": [
      "8\n"
     ]
    },
    {
     "data": {
      "text/plain": [
       "array([[ 8.79357168e-06,  1.69155216e-05,  6.20138660e-06, ...,\n",
       "         6.32014167e-06,  2.47732422e-06,  6.10016481e-06],\n",
       "       [ 1.31104021e-05,  1.19242764e-05,  1.15421120e-05, ...,\n",
       "         1.15283872e-06,  6.10989497e-06,  9.94144385e-07],\n",
       "       [ 9.51774344e-08, -6.17248806e-06, -4.90654636e-06, ...,\n",
       "        -1.91009598e-06, -3.94155067e-06, -1.79488821e-06],\n",
       "       ...,\n",
       "       [ 4.65945865e-06,  2.57117497e-06, -8.74373276e-06, ...,\n",
       "        -3.24842058e-06, -1.88038080e-05, -3.25979011e-06],\n",
       "       [ 2.75880123e-06, -1.58432810e-06,  5.49062760e-06, ...,\n",
       "         7.55290048e-05, -1.40201753e-06,  7.53294841e-05],\n",
       "       [-1.17109383e-05,  2.10001438e-05, -4.19633071e-06, ...,\n",
       "        -1.06922368e-05, -2.63551402e-05, -1.06868877e-05]])"
      ]
     },
     "execution_count": 16,
     "metadata": {},
     "output_type": "execute_result"
    }
   ],
   "source": [
    "print(len(model_tsvd.components_))\n",
    "model_tsvd.components_"
   ]
  },
  {
   "cell_type": "code",
   "execution_count": 17,
   "metadata": {},
   "outputs": [
    {
     "name": "stdout",
     "output_type": "stream",
     "text": [
      "THE TOP 15 WORDS FOR TOPIC #0\n",
      "['language', 'laptop', 'life', 'quora', 'whats', 'doe', 'online', 'make', 'money', 'movie', 'india', 'book', 'learn', 'way', 'best']\n",
      "\n",
      "\n",
      "THE TOP 15 WORDS FOR TOPIC #1\n",
      "['know', 'online', 'life', 'work', 'feel', 'ask', 'answer', 'mean', 'money', 'like', 'make', 'people', 'question', 'quora', 'doe']\n",
      "\n",
      "\n",
      "THE TOP 15 WORDS FOR TOPIC #2\n",
      "['add', 'post', 'needing', 'answered', 'easily', 'improvement', 'delete', 'google', 'asked', 'best', 'people', 'ask', 'answer', 'question', 'quora']\n",
      "\n",
      "\n",
      "THE TOP 15 WORDS FOR TOPIC #3\n",
      "['banning', 'month', 'home', 'rupee', 'easiest', 'good', 'easy', 'black', 'youtube', 'note', 'earn', 'way', 'online', 'make', 'money']\n",
      "\n",
      "\n",
      "THE TOP 15 WORDS FOR TOPIC #4\n",
      "['girl', 'purpose', 'new', 'important', 'india', 'whats', 'trump', 'think', 'love', 'day', 'like', 'know', 'thing', 'people', 'life']\n",
      "\n",
      "\n",
      "THE TOP 15 WORDS FOR TOPIC #5\n",
      "['indian', 'note', 'war', 'pakistan', 'difference', 'election', 'think', 'hillary', 'clinton', 'president', 'win', 'people', 'donald', 'trump', 'india']\n",
      "\n",
      "\n",
      "THE TOP 15 WORDS FOR TOPIC #6\n",
      "['book', 'learning', 'know', 'start', 'skill', 'donald', 'trump', 'people', 'way', 'improve', 'programming', 'english', 'language', 'good', 'learn']\n",
      "\n",
      "\n",
      "THE TOP 15 WORDS FOR TOPIC #7\n",
      "['website', 'friend', 'woman', 'look', 'dont', 'best', 'movie', 'guy', 'sex', 'feel', 'know', 'love', 'girl', 'people', 'like']\n",
      "\n",
      "\n"
     ]
    }
   ],
   "source": [
    "#print top 15 words for the topics\n",
    "#==================================\n",
    "for index,topic in enumerate(model_tsvd.components_):\n",
    "    print(f'THE TOP 15 WORDS FOR TOPIC #{index}')\n",
    "    print([tfidf.get_feature_names()[i] for i in topic.argsort()[-15:]])\n",
    "    print('\\n')"
   ]
  },
  {
   "cell_type": "code",
   "execution_count": 18,
   "metadata": {},
   "outputs": [
    {
     "data": {
      "image/png": "[encoded data removed]",
      "text/plain": [
       "<Figure size 720x720 with 8 Axes>"
      ]
     },
     "metadata": {
      "needs_background": "light"
     },
     "output_type": "display_data"
    }
   ],
   "source": [
    "#plot training features\n",
    "#=======================\n",
    "feature_names = np.array(tfidf.get_feature_names())\n",
    "n_components = 8\n",
    "fig, axes = plt.subplots(2,4, figsize=(10, 10))\n",
    "for ax, coef in zip(axes.ravel(), model_tsvd.components_):\n",
    "    plot_important_features(coef, feature_names, top_n=10, ax=ax)\n",
    "    \n",
    "plt.tight_layout()"
   ]
  },
  {
   "cell_type": "code",
   "execution_count": 19,
   "metadata": {},
   "outputs": [
    {
     "data": {
      "text/plain": [
       "(121287, 8)"
      ]
     },
     "execution_count": 19,
     "metadata": {},
     "output_type": "execute_result"
    }
   ],
   "source": [
    "# predict on test set\n",
    "#=====================\n",
    "\n",
    "topic_test = model_tsvd.transform(test_vectors)\n",
    "topic_test.shape"
   ]
  },
  {
   "cell_type": "code",
   "execution_count": 20,
   "metadata": {},
   "outputs": [
    {
     "data": {
      "text/plain": [
       "array([5, 0, 1, ..., 5, 0, 1], dtype=int64)"
      ]
     },
     "execution_count": 20,
     "metadata": {},
     "output_type": "execute_result"
    }
   ],
   "source": [
    "topic_test.argmax(axis=1)"
   ]
  },
  {
   "cell_type": "code",
   "execution_count": 21,
   "metadata": {},
   "outputs": [
    {
     "name": "stderr",
     "output_type": "stream",
     "text": [
      "C:\\ProgramData\\Anaconda3\\lib\\site-packages\\ipykernel_launcher.py:1: SettingWithCopyWarning: \n",
      "A value is trying to be set on a copy of a slice from a DataFrame.\n",
      "Try using .loc[row_indexer,col_indexer] = value instead\n",
      "\n",
      "See the caveats in the documentation: http://pandas.pydata.org/pandas-docs/stable/user_guide/indexing.html#returning-a-view-versus-a-copy\n",
      "  \"\"\"Entry point for launching an IPython kernel.\n"
     ]
    }
   ],
   "source": [
    "df_test['Topic_SVD'] = topic_test.argmax(axis=1)"
   ]
  },
  {
   "cell_type": "code",
   "execution_count": 22,
   "metadata": {},
   "outputs": [
    {
     "data": {
      "text/html": [
       "<div>\n",
       "<style scoped>\n",
       "    .dataframe tbody tr th:only-of-type {\n",
       "        vertical-align: middle;\n",
       "    }\n",
       "\n",
       "    .dataframe tbody tr th {\n",
       "        vertical-align: top;\n",
       "    }\n",
       "\n",
       "    .dataframe thead th {\n",
       "        text-align: right;\n",
       "    }\n",
       "</style>\n",
       "<table border=\"1\" class=\"dataframe\">\n",
       "  <thead>\n",
       "    <tr style=\"text-align: right;\">\n",
       "      <th></th>\n",
       "      <th>Question</th>\n",
       "      <th>Topic_SVD</th>\n",
       "    </tr>\n",
       "  </thead>\n",
       "  <tbody>\n",
       "    <tr>\n",
       "      <td>6557</td>\n",
       "      <td>best doctor doom story</td>\n",
       "      <td>0</td>\n",
       "    </tr>\n",
       "    <tr>\n",
       "      <td>139264</td>\n",
       "      <td>newton ring circular shape square shape</td>\n",
       "      <td>1</td>\n",
       "    </tr>\n",
       "    <tr>\n",
       "      <td>240135</td>\n",
       "      <td>doe wikipedia ensure content quality authentic...</td>\n",
       "      <td>1</td>\n",
       "    </tr>\n",
       "    <tr>\n",
       "      <td>3336</td>\n",
       "      <td>height would year old increase height</td>\n",
       "      <td>4</td>\n",
       "    </tr>\n",
       "    <tr>\n",
       "      <td>238994</td>\n",
       "      <td>many people sex</td>\n",
       "      <td>4</td>\n",
       "    </tr>\n",
       "    <tr>\n",
       "      <td>288817</td>\n",
       "      <td>famous story swami vivekananda</td>\n",
       "      <td>0</td>\n",
       "    </tr>\n",
       "    <tr>\n",
       "      <td>127604</td>\n",
       "      <td>forget someone love strongly</td>\n",
       "      <td>7</td>\n",
       "    </tr>\n",
       "    <tr>\n",
       "      <td>80065</td>\n",
       "      <td>sahara average temperature compare one great v...</td>\n",
       "      <td>1</td>\n",
       "    </tr>\n",
       "    <tr>\n",
       "      <td>134165</td>\n",
       "      <td>whats romantic thing anyone ha ever done</td>\n",
       "      <td>4</td>\n",
       "    </tr>\n",
       "  </tbody>\n",
       "</table>\n",
       "</div>"
      ],
      "text/plain": [
       "                                                 Question  Topic_SVD\n",
       "6557                               best doctor doom story          0\n",
       "139264            newton ring circular shape square shape          1\n",
       "240135  doe wikipedia ensure content quality authentic...          1\n",
       "3336                height would year old increase height          4\n",
       "238994                                    many people sex          4\n",
       "288817                     famous story swami vivekananda          0\n",
       "127604                       forget someone love strongly          7\n",
       "80065   sahara average temperature compare one great v...          1\n",
       "134165           whats romantic thing anyone ha ever done          4"
      ]
     },
     "execution_count": 22,
     "metadata": {},
     "output_type": "execute_result"
    }
   ],
   "source": [
    "#print topics predicted for test set\n",
    "#====================================\n",
    "df_test.iloc[1:10,:]"
   ]
  },
  {
   "cell_type": "markdown",
   "metadata": {},
   "source": [
    "# Non negative Matrix Factorization - NMF"
   ]
  },
  {
   "cell_type": "code",
   "execution_count": 23,
   "metadata": {},
   "outputs": [],
   "source": [
    "model_nmf = NMF(n_components=8,random_state=42)"
   ]
  },
  {
   "cell_type": "code",
   "execution_count": 25,
   "metadata": {},
   "outputs": [
    {
     "data": {
      "text/plain": [
       "NMF(alpha=0.0, beta_loss='frobenius', init=None, l1_ratio=0.0, max_iter=200,\n",
       "    n_components=8, random_state=42, shuffle=False, solver='cd', tol=0.0001,\n",
       "    verbose=0)"
      ]
     },
     "execution_count": 25,
     "metadata": {},
     "output_type": "execute_result"
    }
   ],
   "source": [
    "# fit the model to train data\n",
    "#=============================\n",
    "model_nmf.fit(train_vectors)"
   ]
  },
  {
   "cell_type": "code",
   "execution_count": 26,
   "metadata": {},
   "outputs": [
    {
     "name": "stdout",
     "output_type": "stream",
     "text": [
      "8\n"
     ]
    },
    {
     "data": {
      "text/plain": [
       "array([[2.75942045e-05, 6.04395425e-05, 0.00000000e+00, ...,\n",
       "        0.00000000e+00, 0.00000000e+00, 0.00000000e+00],\n",
       "       [7.43635833e-05, 5.69409364e-06, 8.73102881e-06, ...,\n",
       "        0.00000000e+00, 0.00000000e+00, 0.00000000e+00],\n",
       "       [4.77488087e-05, 1.28217863e-05, 1.67242843e-06, ...,\n",
       "        0.00000000e+00, 0.00000000e+00, 0.00000000e+00],\n",
       "       ...,\n",
       "       [4.38656207e-05, 0.00000000e+00, 2.33874742e-05, ...,\n",
       "        0.00000000e+00, 0.00000000e+00, 0.00000000e+00],\n",
       "       [0.00000000e+00, 3.43882125e-05, 2.87867785e-05, ...,\n",
       "        4.54876906e-04, 3.92804860e-05, 4.53094518e-04],\n",
       "       [1.32921492e-05, 0.00000000e+00, 8.67932548e-06, ...,\n",
       "        0.00000000e+00, 0.00000000e+00, 0.00000000e+00]])"
      ]
     },
     "execution_count": 26,
     "metadata": {},
     "output_type": "execute_result"
    }
   ],
   "source": [
    "print(len(model_nmf.components_))\n",
    "model_nmf.components_"
   ]
  },
  {
   "cell_type": "code",
   "execution_count": 27,
   "metadata": {},
   "outputs": [
    {
     "name": "stdout",
     "output_type": "stream",
     "text": [
      "THE TOP 15 WORDS FOR TOPIC #0\n",
      "['friend', 'time', 'site', 'website', 'lose', 'weight', 'buy', 'place', 'phone', 'whats', 'laptop', 'book', 'movie', 'way', 'best']\n",
      "\n",
      "\n",
      "THE TOP 15 WORDS FOR TOPIC #1\n",
      "['university', 'look', 'girl', 'say', 'compare', 'really', 'cost', 'sex', 'time', 'long', 'feel', 'work', 'like', 'mean', 'doe']\n",
      "\n",
      "\n",
      "THE TOP 15 WORDS FOR TOPIC #2\n",
      "['use', 'add', 'answered', 'needing', 'post', 'easily', 'improvement', 'delete', 'asked', 'google', 'ask', 'people', 'answer', 'question', 'quora']\n",
      "\n",
      "\n",
      "THE TOP 15 WORDS FOR TOPIC #3\n",
      "['month', 'friend', 'video', 'easiest', 'rupee', 'home', 'easy', 'note', 'black', 'youtube', 'way', 'earn', 'online', 'make', 'money']\n",
      "\n",
      "\n",
      "THE TOP 15 WORDS FOR TOPIC #4\n",
      "['wa', 'dont', 'meaning', 'girl', 'new', 'whats', 'purpose', 'important', 'day', 'love', 'people', 'know', 'like', 'thing', 'life']\n",
      "\n",
      "\n",
      "THE TOP 15 WORDS FOR TOPIC #5\n",
      "['ban', 'banning', 'start', 'business', 'company', 'think', 'world', 'job', 'rupee', 'country', 'indian', 'war', 'note', 'pakistan', 'india']\n",
      "\n",
      "\n",
      "THE TOP 15 WORDS FOR TOPIC #6\n",
      "['python', 'beginner', 'speak', 'java', 'book', 'skill', 'learning', 'start', 'way', 'improve', 'programming', 'english', 'good', 'language', 'learn']\n",
      "\n",
      "\n",
      "THE TOP 15 WORDS FOR TOPIC #7\n",
      "['good', 'presidency', 'happen', 'better', 'vote', 'presidential', 'people', 'think', 'election', 'hillary', 'president', 'clinton', 'win', 'donald', 'trump']\n",
      "\n",
      "\n"
     ]
    }
   ],
   "source": [
    "#print top 15 words for the topics\n",
    "#==================================\n",
    "for index,topic in enumerate(model_nmf.components_):\n",
    "    print(f'THE TOP 15 WORDS FOR TOPIC #{index}')\n",
    "    print([tfidf.get_feature_names()[i] for i in topic.argsort()[-15:]])\n",
    "    print('\\n')"
   ]
  },
  {
   "cell_type": "code",
   "execution_count": 28,
   "metadata": {},
   "outputs": [
    {
     "data": {
      "image/png": "[encoded data removed]",
      "text/plain": [
       "<Figure size 720x720 with 8 Axes>"
      ]
     },
     "metadata": {
      "needs_background": "light"
     },
     "output_type": "display_data"
    }
   ],
   "source": [
    "#plot training features\n",
    "#=======================\n",
    "\n",
    "feature_names = np.array(tfidf.get_feature_names())\n",
    "n_components = 8\n",
    "fig, axes = plt.subplots(2,4, figsize=(10, 10))\n",
    "for ax, coef in zip(axes.ravel(), model_nmf.components_):\n",
    "    plot_important_features(coef, feature_names, top_n=10, ax=ax)\n",
    "    \n",
    "plt.tight_layout()"
   ]
  },
  {
   "cell_type": "code",
   "execution_count": 29,
   "metadata": {},
   "outputs": [
    {
     "data": {
      "text/plain": [
       "(121287, 8)"
      ]
     },
     "execution_count": 29,
     "metadata": {},
     "output_type": "execute_result"
    }
   ],
   "source": [
    "# predict on test set\n",
    "#=====================\n",
    "\n",
    "topic_test = model_nmf.transform(test_vectors)\n",
    "topic_test.shape"
   ]
  },
  {
   "cell_type": "code",
   "execution_count": 30,
   "metadata": {},
   "outputs": [
    {
     "data": {
      "text/plain": [
       "array([5, 0, 1, ..., 5, 5, 6], dtype=int64)"
      ]
     },
     "execution_count": 30,
     "metadata": {},
     "output_type": "execute_result"
    }
   ],
   "source": [
    "topic_test.argmax(axis=1)"
   ]
  },
  {
   "cell_type": "code",
   "execution_count": 31,
   "metadata": {},
   "outputs": [
    {
     "name": "stderr",
     "output_type": "stream",
     "text": [
      "C:\\ProgramData\\Anaconda3\\lib\\site-packages\\ipykernel_launcher.py:1: SettingWithCopyWarning: \n",
      "A value is trying to be set on a copy of a slice from a DataFrame.\n",
      "Try using .loc[row_indexer,col_indexer] = value instead\n",
      "\n",
      "See the caveats in the documentation: http://pandas.pydata.org/pandas-docs/stable/user_guide/indexing.html#returning-a-view-versus-a-copy\n",
      "  \"\"\"Entry point for launching an IPython kernel.\n"
     ]
    }
   ],
   "source": [
    "df_test['Topic_NMF'] = topic_test.argmax(axis=1)"
   ]
  },
  {
   "cell_type": "code",
   "execution_count": 32,
   "metadata": {},
   "outputs": [
    {
     "data": {
      "text/html": [
       "<div>\n",
       "<style scoped>\n",
       "    .dataframe tbody tr th:only-of-type {\n",
       "        vertical-align: middle;\n",
       "    }\n",
       "\n",
       "    .dataframe tbody tr th {\n",
       "        vertical-align: top;\n",
       "    }\n",
       "\n",
       "    .dataframe thead th {\n",
       "        text-align: right;\n",
       "    }\n",
       "</style>\n",
       "<table border=\"1\" class=\"dataframe\">\n",
       "  <thead>\n",
       "    <tr style=\"text-align: right;\">\n",
       "      <th></th>\n",
       "      <th>Question</th>\n",
       "      <th>Topic_SVD</th>\n",
       "      <th>Topic_NMF</th>\n",
       "    </tr>\n",
       "  </thead>\n",
       "  <tbody>\n",
       "    <tr>\n",
       "      <td>6557</td>\n",
       "      <td>best doctor doom story</td>\n",
       "      <td>0</td>\n",
       "      <td>0</td>\n",
       "    </tr>\n",
       "    <tr>\n",
       "      <td>139264</td>\n",
       "      <td>newton ring circular shape square shape</td>\n",
       "      <td>1</td>\n",
       "      <td>1</td>\n",
       "    </tr>\n",
       "    <tr>\n",
       "      <td>240135</td>\n",
       "      <td>doe wikipedia ensure content quality authentic...</td>\n",
       "      <td>1</td>\n",
       "      <td>1</td>\n",
       "    </tr>\n",
       "    <tr>\n",
       "      <td>3336</td>\n",
       "      <td>height would year old increase height</td>\n",
       "      <td>4</td>\n",
       "      <td>4</td>\n",
       "    </tr>\n",
       "    <tr>\n",
       "      <td>238994</td>\n",
       "      <td>many people sex</td>\n",
       "      <td>4</td>\n",
       "      <td>4</td>\n",
       "    </tr>\n",
       "    <tr>\n",
       "      <td>288817</td>\n",
       "      <td>famous story swami vivekananda</td>\n",
       "      <td>0</td>\n",
       "      <td>4</td>\n",
       "    </tr>\n",
       "    <tr>\n",
       "      <td>127604</td>\n",
       "      <td>forget someone love strongly</td>\n",
       "      <td>7</td>\n",
       "      <td>4</td>\n",
       "    </tr>\n",
       "    <tr>\n",
       "      <td>80065</td>\n",
       "      <td>sahara average temperature compare one great v...</td>\n",
       "      <td>1</td>\n",
       "      <td>1</td>\n",
       "    </tr>\n",
       "    <tr>\n",
       "      <td>134165</td>\n",
       "      <td>whats romantic thing anyone ha ever done</td>\n",
       "      <td>4</td>\n",
       "      <td>4</td>\n",
       "    </tr>\n",
       "  </tbody>\n",
       "</table>\n",
       "</div>"
      ],
      "text/plain": [
       "                                                 Question  Topic_SVD  \\\n",
       "6557                               best doctor doom story          0   \n",
       "139264            newton ring circular shape square shape          1   \n",
       "240135  doe wikipedia ensure content quality authentic...          1   \n",
       "3336                height would year old increase height          4   \n",
       "238994                                    many people sex          4   \n",
       "288817                     famous story swami vivekananda          0   \n",
       "127604                       forget someone love strongly          7   \n",
       "80065   sahara average temperature compare one great v...          1   \n",
       "134165           whats romantic thing anyone ha ever done          4   \n",
       "\n",
       "        Topic_NMF  \n",
       "6557            0  \n",
       "139264          1  \n",
       "240135          1  \n",
       "3336            4  \n",
       "238994          4  \n",
       "288817          4  \n",
       "127604          4  \n",
       "80065           1  \n",
       "134165          4  "
      ]
     },
     "execution_count": 32,
     "metadata": {},
     "output_type": "execute_result"
    }
   ],
   "source": [
    "#print topics predicted for test set\n",
    "#====================================\n",
    "df_test.iloc[1:10,:]"
   ]
  },
  {
   "cell_type": "markdown",
   "metadata": {},
   "source": [
    "# Randomized Truncated SVD"
   ]
  },
  {
   "cell_type": "code",
   "execution_count": 33,
   "metadata": {},
   "outputs": [],
   "source": [
    "u_rsvd, s_rsvd, v_rsvd = randomized_svd(train_vectors,n_components=8)\n",
    "#u = document vector\n",
    "#v = topic vector"
   ]
  },
  {
   "cell_type": "code",
   "execution_count": 34,
   "metadata": {},
   "outputs": [
    {
     "name": "stdout",
     "output_type": "stream",
     "text": [
      "(283002, 8)\n",
      "(8,)\n",
      "(8, 29464)\n"
     ]
    }
   ],
   "source": [
    "print(u_rsvd.shape) #(documents,topics)\n",
    "print(s_rsvd.shape)\n",
    "print(v_rsvd.shape) #(topics,terms)"
   ]
  },
  {
   "cell_type": "code",
   "execution_count": 35,
   "metadata": {},
   "outputs": [
    {
     "data": {
      "text/plain": [
       "array([[ 8.79260158e-06,  1.69226544e-05,  6.18247414e-06, ...,\n",
       "         6.29657448e-06,  2.43196973e-06,  6.07690238e-06],\n",
       "       [ 1.49545168e-05,  1.21828962e-05,  1.21749878e-05, ...,\n",
       "         1.01003300e-06,  5.93296787e-06,  8.49028986e-07],\n",
       "       [-7.36076138e-07, -4.75067289e-06, -4.62812343e-06, ...,\n",
       "        -1.83273462e-06, -3.47619533e-06, -1.72829798e-06],\n",
       "       ...,\n",
       "       [ 1.36384784e-05, -1.25050669e-05, -3.45414100e-06, ...,\n",
       "        -5.19950586e-06, -1.98367658e-05, -5.07458219e-06],\n",
       "       [-6.13840090e-06,  2.12274464e-05, -2.26041800e-06, ...,\n",
       "         4.16067442e-05, -1.62141955e-05,  4.12792339e-05],\n",
       "       [ 9.32363442e-06,  1.00657036e-05, -5.95721360e-06, ...,\n",
       "        -4.11257643e-05, -2.57697420e-05, -4.08980718e-05]])"
      ]
     },
     "execution_count": 35,
     "metadata": {},
     "output_type": "execute_result"
    }
   ],
   "source": [
    "v_rsvd"
   ]
  },
  {
   "cell_type": "code",
   "execution_count": 36,
   "metadata": {},
   "outputs": [
    {
     "data": {
      "text/plain": [
       "29464"
      ]
     },
     "execution_count": 36,
     "metadata": {},
     "output_type": "execute_result"
    }
   ],
   "source": [
    "len(v_rsvd[0])"
   ]
  },
  {
   "cell_type": "code",
   "execution_count": 37,
   "metadata": {},
   "outputs": [
    {
     "name": "stdout",
     "output_type": "stream",
     "text": [
      "THE TOP 15 WORDS FOR TOPIC #0\n",
      "['language', 'laptop', 'life', 'quora', 'whats', 'doe', 'online', 'make', 'money', 'movie', 'india', 'book', 'learn', 'way', 'best']\n",
      "\n",
      "\n",
      "THE TOP 15 WORDS FOR TOPIC #1\n",
      "['online', 'know', 'life', 'work', 'feel', 'ask', 'answer', 'mean', 'money', 'like', 'make', 'people', 'question', 'quora', 'doe']\n",
      "\n",
      "\n",
      "THE TOP 15 WORDS FOR TOPIC #2\n",
      "['add', 'post', 'needing', 'answered', 'easily', 'improvement', 'delete', 'google', 'asked', 'best', 'people', 'ask', 'answer', 'question', 'quora']\n",
      "\n",
      "\n",
      "THE TOP 15 WORDS FOR TOPIC #3\n",
      "['banning', 'month', 'home', 'rupee', 'good', 'easiest', 'easy', 'black', 'note', 'youtube', 'earn', 'way', 'online', 'make', 'money']\n",
      "\n",
      "\n",
      "THE TOP 15 WORDS FOR TOPIC #4\n",
      "['new', 'important', 'whats', 'day', 'donald', 'good', 'love', 'think', 'trump', 'india', 'know', 'like', 'thing', 'people', 'life']\n",
      "\n",
      "\n",
      "THE TOP 15 WORDS FOR TOPIC #5\n",
      "['indian', 'good', 'pakistan', 'note', 'war', 'think', 'election', 'hillary', 'people', 'clinton', 'president', 'win', 'donald', 'trump', 'india']\n",
      "\n",
      "\n",
      "THE TOP 15 WORDS FOR TOPIC #6\n",
      "['time', 'lose', 'weight', 'improve', 'girl', 'love', 'know', 'english', 'programming', 'language', 'people', 'way', 'good', 'like', 'learn']\n",
      "\n",
      "\n",
      "THE TOP 15 WORDS FOR TOPIC #7\n",
      "['india', 'money', 'friend', 'sex', 'dont', 'make', 'guy', 'movie', 'love', 'feel', 'know', 'best', 'girl', 'people', 'like']\n",
      "\n",
      "\n"
     ]
    }
   ],
   "source": [
    "#print top 15 words for the topics\n",
    "#==================================\n",
    "for index,topic in enumerate(v_rsvd):\n",
    "    print(f'THE TOP 15 WORDS FOR TOPIC #{index}')\n",
    "    print([tfidf.get_feature_names()[i] for i in topic.argsort()[-15:]])\n",
    "    print('\\n')"
   ]
  },
  {
   "cell_type": "code",
   "execution_count": 38,
   "metadata": {},
   "outputs": [
    {
     "data": {
      "image/png": "[encoded data removed]",
      "text/plain": [
       "<Figure size 720x720 with 8 Axes>"
      ]
     },
     "metadata": {
      "needs_background": "light"
     },
     "output_type": "display_data"
    }
   ],
   "source": [
    "#plot training features\n",
    "#=======================\n",
    "\n",
    "feature_names = np.array(tfidf.get_feature_names())\n",
    "n_components = 8\n",
    "fig, axes = plt.subplots(2,4, figsize=(10, 10))\n",
    "for ax, coef in zip(axes.ravel(), v_rsvd):\n",
    "    plot_important_features(coef, feature_names, top_n=10, ax=ax)\n",
    "    \n",
    "plt.tight_layout()"
   ]
  },
  {
   "cell_type": "code",
   "execution_count": 39,
   "metadata": {},
   "outputs": [],
   "source": [
    "# predict on test set\n",
    "#=====================\n",
    "\n",
    "test_vectors_transformed_rsvd= test_vectors@v_rsvd.T"
   ]
  },
  {
   "cell_type": "code",
   "execution_count": 40,
   "metadata": {},
   "outputs": [
    {
     "name": "stdout",
     "output_type": "stream",
     "text": [
      "(121287, 29464)\n",
      "(121287, 8)\n"
     ]
    }
   ],
   "source": [
    "print(test_vectors.shape)\n",
    "print(test_vectors_transformed_rsvd.shape)"
   ]
  },
  {
   "cell_type": "code",
   "execution_count": 41,
   "metadata": {},
   "outputs": [
    {
     "name": "stderr",
     "output_type": "stream",
     "text": [
      "C:\\ProgramData\\Anaconda3\\lib\\site-packages\\ipykernel_launcher.py:1: SettingWithCopyWarning: \n",
      "A value is trying to be set on a copy of a slice from a DataFrame.\n",
      "Try using .loc[row_indexer,col_indexer] = value instead\n",
      "\n",
      "See the caveats in the documentation: http://pandas.pydata.org/pandas-docs/stable/user_guide/indexing.html#returning-a-view-versus-a-copy\n",
      "  \"\"\"Entry point for launching an IPython kernel.\n"
     ]
    }
   ],
   "source": [
    "df_test['Topic_RSVD'] = test_vectors_transformed_rsvd.argmax(axis=1)"
   ]
  },
  {
   "cell_type": "code",
   "execution_count": 42,
   "metadata": {},
   "outputs": [
    {
     "data": {
      "text/html": [
       "<div>\n",
       "<style scoped>\n",
       "    .dataframe tbody tr th:only-of-type {\n",
       "        vertical-align: middle;\n",
       "    }\n",
       "\n",
       "    .dataframe tbody tr th {\n",
       "        vertical-align: top;\n",
       "    }\n",
       "\n",
       "    .dataframe thead th {\n",
       "        text-align: right;\n",
       "    }\n",
       "</style>\n",
       "<table border=\"1\" class=\"dataframe\">\n",
       "  <thead>\n",
       "    <tr style=\"text-align: right;\">\n",
       "      <th></th>\n",
       "      <th>Question</th>\n",
       "      <th>Topic_SVD</th>\n",
       "      <th>Topic_NMF</th>\n",
       "      <th>Topic_RSVD</th>\n",
       "    </tr>\n",
       "  </thead>\n",
       "  <tbody>\n",
       "    <tr>\n",
       "      <td>6557</td>\n",
       "      <td>best doctor doom story</td>\n",
       "      <td>0</td>\n",
       "      <td>0</td>\n",
       "      <td>0</td>\n",
       "    </tr>\n",
       "    <tr>\n",
       "      <td>139264</td>\n",
       "      <td>newton ring circular shape square shape</td>\n",
       "      <td>1</td>\n",
       "      <td>1</td>\n",
       "      <td>1</td>\n",
       "    </tr>\n",
       "    <tr>\n",
       "      <td>240135</td>\n",
       "      <td>doe wikipedia ensure content quality authentic...</td>\n",
       "      <td>1</td>\n",
       "      <td>1</td>\n",
       "      <td>1</td>\n",
       "    </tr>\n",
       "    <tr>\n",
       "      <td>3336</td>\n",
       "      <td>height would year old increase height</td>\n",
       "      <td>4</td>\n",
       "      <td>4</td>\n",
       "      <td>1</td>\n",
       "    </tr>\n",
       "    <tr>\n",
       "      <td>238994</td>\n",
       "      <td>many people sex</td>\n",
       "      <td>4</td>\n",
       "      <td>4</td>\n",
       "      <td>4</td>\n",
       "    </tr>\n",
       "    <tr>\n",
       "      <td>288817</td>\n",
       "      <td>famous story swami vivekananda</td>\n",
       "      <td>0</td>\n",
       "      <td>4</td>\n",
       "      <td>0</td>\n",
       "    </tr>\n",
       "    <tr>\n",
       "      <td>127604</td>\n",
       "      <td>forget someone love strongly</td>\n",
       "      <td>7</td>\n",
       "      <td>4</td>\n",
       "      <td>6</td>\n",
       "    </tr>\n",
       "    <tr>\n",
       "      <td>80065</td>\n",
       "      <td>sahara average temperature compare one great v...</td>\n",
       "      <td>1</td>\n",
       "      <td>1</td>\n",
       "      <td>1</td>\n",
       "    </tr>\n",
       "    <tr>\n",
       "      <td>134165</td>\n",
       "      <td>whats romantic thing anyone ha ever done</td>\n",
       "      <td>4</td>\n",
       "      <td>4</td>\n",
       "      <td>4</td>\n",
       "    </tr>\n",
       "  </tbody>\n",
       "</table>\n",
       "</div>"
      ],
      "text/plain": [
       "                                                 Question  Topic_SVD  \\\n",
       "6557                               best doctor doom story          0   \n",
       "139264            newton ring circular shape square shape          1   \n",
       "240135  doe wikipedia ensure content quality authentic...          1   \n",
       "3336                height would year old increase height          4   \n",
       "238994                                    many people sex          4   \n",
       "288817                     famous story swami vivekananda          0   \n",
       "127604                       forget someone love strongly          7   \n",
       "80065   sahara average temperature compare one great v...          1   \n",
       "134165           whats romantic thing anyone ha ever done          4   \n",
       "\n",
       "        Topic_NMF  Topic_RSVD  \n",
       "6557            0           0  \n",
       "139264          1           1  \n",
       "240135          1           1  \n",
       "3336            4           1  \n",
       "238994          4           4  \n",
       "288817          4           0  \n",
       "127604          4           6  \n",
       "80065           1           1  \n",
       "134165          4           4  "
      ]
     },
     "execution_count": 42,
     "metadata": {},
     "output_type": "execute_result"
    }
   ],
   "source": [
    "#print topics predicted for test set\n",
    "#====================================\n",
    "df_test.iloc[1:10,:]"
   ]
  },
  {
   "cell_type": "markdown",
   "metadata": {},
   "source": [
    "# Randomized Truncated SVD - Facebook"
   ]
  },
  {
   "cell_type": "code",
   "execution_count": 43,
   "metadata": {},
   "outputs": [],
   "source": [
    "u_fb, s_fb, v_fb = fbpca.pca(train_vectors,8)"
   ]
  },
  {
   "cell_type": "code",
   "execution_count": 44,
   "metadata": {},
   "outputs": [
    {
     "name": "stdout",
     "output_type": "stream",
     "text": [
      "(283002, 8)\n",
      "(8,)\n",
      "(8, 29464)\n"
     ]
    }
   ],
   "source": [
    "print(u_fb.shape) #(documents,topics)\n",
    "print(s_fb.shape)\n",
    "print(v_fb.shape) #(topics,terms)"
   ]
  },
  {
   "cell_type": "code",
   "execution_count": 45,
   "metadata": {},
   "outputs": [
    {
     "data": {
      "text/plain": [
       "array([[ 4.70754666e-05,  6.13836255e-06,  2.15357303e-05, ...,\n",
       "         1.74999723e-05,  1.73000605e-05,  7.83410401e-06],\n",
       "       [ 5.71617193e-05,  9.59341348e-06,  3.39283644e-05, ...,\n",
       "         1.83966371e-05,  1.18983482e-05,  6.11479348e-06],\n",
       "       [ 2.30994971e-05, -8.29899314e-07,  1.15917905e-05, ...,\n",
       "         3.78308381e-06, -2.59294936e-06, -2.86805909e-06],\n",
       "       ...,\n",
       "       [ 2.32045659e-05,  9.70572805e-05, -1.54326121e-05, ...,\n",
       "         2.29440597e-05, -1.91498493e-05,  2.11428521e-05],\n",
       "       [-5.96210885e-05, -5.97113311e-06, -1.95202140e-05, ...,\n",
       "        -3.39287228e-05, -3.00453154e-06, -2.98151468e-05],\n",
       "       [ 1.32377257e-04, -3.66713755e-05, -2.26018498e-05, ...,\n",
       "        -2.96467329e-05, -7.23417525e-05, -2.38304597e-05]])"
      ]
     },
     "execution_count": 45,
     "metadata": {},
     "output_type": "execute_result"
    }
   ],
   "source": [
    "v_fb"
   ]
  },
  {
   "cell_type": "code",
   "execution_count": 46,
   "metadata": {},
   "outputs": [
    {
     "data": {
      "text/plain": [
       "29464"
      ]
     },
     "execution_count": 46,
     "metadata": {},
     "output_type": "execute_result"
    }
   ],
   "source": [
    "len(v_fb[0])"
   ]
  },
  {
   "cell_type": "code",
   "execution_count": 47,
   "metadata": {},
   "outputs": [
    {
     "name": "stdout",
     "output_type": "stream",
     "text": [
      "THE TOP 15 WORDS FOR TOPIC #0\n",
      "['dont', 'work', 'think', 'feel', 'ask', 'good', 'mean', 'know', 'difference', 'like', 'question', 'life', 'people', 'quora', 'doe']\n",
      "\n",
      "\n",
      "THE TOP 15 WORDS FOR TOPIC #1\n",
      "['feel', 'war', 'world', 'phone', 'woman', 'think', 'lose', 'election', 'weight', 'life', 'donald', 'win', 'like', 'trump', 'difference']\n",
      "\n",
      "\n",
      "THE TOP 15 WORDS FOR TOPIC #2\n",
      "['win', 'rupee', 'good', 'job', 'black', 'donald', 'note', 'difference', 'trump', 'way', 'earn', 'online', 'india', 'make', 'money']\n",
      "\n",
      "\n",
      "THE TOP 15 WORDS FOR TOPIC #3\n",
      "['win', 'difference', 'love', 'thing', 'start', 'book', 'donald', 'programming', 'question', 'quora', 'trump', 'improve', 'learn', 'language', 'english']\n",
      "\n",
      "\n",
      "THE TOP 15 WORDS FOR TOPIC #4\n",
      "['hillary', 'make', 'best', 'clinton', 'important', 'win', 'movie', 'like', 'thing', 'think', 'donald', 'love', 'trump', 'people', 'life']\n",
      "\n",
      "\n",
      "THE TOP 15 WORDS FOR TOPIC #5\n",
      "['old', 'website', 'difference', 'new', 'phone', 'english', 'way', 'improve', 'learn', 'girl', 'time', 'year', 'people', 'whats', 'like']\n",
      "\n",
      "\n",
      "THE TOP 15 WORDS FOR TOPIC #6\n",
      "['day', 'woman', 'increase', 'question', 'lose', 'year', 'new', 'job', 'life', 'weight', 'thing', 'quora', 'know', 'like', 'india']\n",
      "\n",
      "\n",
      "THE TOP 15 WORDS FOR TOPIC #7\n",
      "['year', 'president', 'movie', 'hillary', 'better', 'think', 'clinton', 'increase', 'donald', 'like', 'trump', 'people', 'lose', 'weight', 'way']\n",
      "\n",
      "\n"
     ]
    }
   ],
   "source": [
    "#print top 15 words for the topics\n",
    "#==================================\n",
    "for index,topic in enumerate(v_fb):\n",
    "    print(f'THE TOP 15 WORDS FOR TOPIC #{index}')\n",
    "    print([tfidf.get_feature_names()[i] for i in topic.argsort()[-15:]])\n",
    "    print('\\n')"
   ]
  },
  {
   "cell_type": "code",
   "execution_count": 48,
   "metadata": {},
   "outputs": [
    {
     "data": {
      "image/png": "[encoded data removed]",
      "text/plain": [
       "<Figure size 720x720 with 8 Axes>"
      ]
     },
     "metadata": {
      "needs_background": "light"
     },
     "output_type": "display_data"
    }
   ],
   "source": [
    "#plot training features\n",
    "#=======================\n",
    "\n",
    "feature_names = np.array(tfidf.get_feature_names())\n",
    "n_components = 8\n",
    "fig, axes = plt.subplots(2,4, figsize=(10, 10))\n",
    "for ax, coef in zip(axes.ravel(), v_fb):\n",
    "    plot_important_features(coef, feature_names, top_n=10, ax=ax)\n",
    "    \n",
    "plt.tight_layout()"
   ]
  },
  {
   "cell_type": "code",
   "execution_count": 49,
   "metadata": {},
   "outputs": [],
   "source": [
    "# predict on test set\n",
    "#=====================\n",
    "\n",
    "test_vectors_transformed_fb= test_vectors@v_fb.T"
   ]
  },
  {
   "cell_type": "code",
   "execution_count": 50,
   "metadata": {},
   "outputs": [
    {
     "name": "stdout",
     "output_type": "stream",
     "text": [
      "(121287, 29464)\n",
      "(121287, 8)\n"
     ]
    }
   ],
   "source": [
    "print(test_vectors.shape)\n",
    "print(test_vectors_transformed_fb.shape)"
   ]
  },
  {
   "cell_type": "code",
   "execution_count": 51,
   "metadata": {},
   "outputs": [
    {
     "name": "stderr",
     "output_type": "stream",
     "text": [
      "C:\\ProgramData\\Anaconda3\\lib\\site-packages\\ipykernel_launcher.py:1: SettingWithCopyWarning: \n",
      "A value is trying to be set on a copy of a slice from a DataFrame.\n",
      "Try using .loc[row_indexer,col_indexer] = value instead\n",
      "\n",
      "See the caveats in the documentation: http://pandas.pydata.org/pandas-docs/stable/user_guide/indexing.html#returning-a-view-versus-a-copy\n",
      "  \"\"\"Entry point for launching an IPython kernel.\n"
     ]
    }
   ],
   "source": [
    "df_test['Topic_RSVD_FB'] = test_vectors_transformed_fb.argmax(axis=1)"
   ]
  },
  {
   "cell_type": "code",
   "execution_count": 52,
   "metadata": {},
   "outputs": [
    {
     "data": {
      "text/html": [
       "<div>\n",
       "<style scoped>\n",
       "    .dataframe tbody tr th:only-of-type {\n",
       "        vertical-align: middle;\n",
       "    }\n",
       "\n",
       "    .dataframe tbody tr th {\n",
       "        vertical-align: top;\n",
       "    }\n",
       "\n",
       "    .dataframe thead th {\n",
       "        text-align: right;\n",
       "    }\n",
       "</style>\n",
       "<table border=\"1\" class=\"dataframe\">\n",
       "  <thead>\n",
       "    <tr style=\"text-align: right;\">\n",
       "      <th></th>\n",
       "      <th>Question</th>\n",
       "      <th>Topic_SVD</th>\n",
       "      <th>Topic_NMF</th>\n",
       "      <th>Topic_RSVD</th>\n",
       "      <th>Topic_RSVD_FB</th>\n",
       "    </tr>\n",
       "  </thead>\n",
       "  <tbody>\n",
       "    <tr>\n",
       "      <td>6557</td>\n",
       "      <td>best doctor doom story</td>\n",
       "      <td>0</td>\n",
       "      <td>0</td>\n",
       "      <td>0</td>\n",
       "      <td>4</td>\n",
       "    </tr>\n",
       "    <tr>\n",
       "      <td>139264</td>\n",
       "      <td>newton ring circular shape square shape</td>\n",
       "      <td>1</td>\n",
       "      <td>1</td>\n",
       "      <td>1</td>\n",
       "      <td>1</td>\n",
       "    </tr>\n",
       "    <tr>\n",
       "      <td>240135</td>\n",
       "      <td>doe wikipedia ensure content quality authentic...</td>\n",
       "      <td>1</td>\n",
       "      <td>1</td>\n",
       "      <td>1</td>\n",
       "      <td>0</td>\n",
       "    </tr>\n",
       "    <tr>\n",
       "      <td>3336</td>\n",
       "      <td>height would year old increase height</td>\n",
       "      <td>4</td>\n",
       "      <td>4</td>\n",
       "      <td>1</td>\n",
       "      <td>7</td>\n",
       "    </tr>\n",
       "    <tr>\n",
       "      <td>238994</td>\n",
       "      <td>many people sex</td>\n",
       "      <td>4</td>\n",
       "      <td>4</td>\n",
       "      <td>4</td>\n",
       "      <td>4</td>\n",
       "    </tr>\n",
       "    <tr>\n",
       "      <td>288817</td>\n",
       "      <td>famous story swami vivekananda</td>\n",
       "      <td>0</td>\n",
       "      <td>4</td>\n",
       "      <td>0</td>\n",
       "      <td>4</td>\n",
       "    </tr>\n",
       "    <tr>\n",
       "      <td>127604</td>\n",
       "      <td>forget someone love strongly</td>\n",
       "      <td>7</td>\n",
       "      <td>4</td>\n",
       "      <td>6</td>\n",
       "      <td>4</td>\n",
       "    </tr>\n",
       "    <tr>\n",
       "      <td>80065</td>\n",
       "      <td>sahara average temperature compare one great v...</td>\n",
       "      <td>1</td>\n",
       "      <td>1</td>\n",
       "      <td>1</td>\n",
       "      <td>0</td>\n",
       "    </tr>\n",
       "    <tr>\n",
       "      <td>134165</td>\n",
       "      <td>whats romantic thing anyone ha ever done</td>\n",
       "      <td>4</td>\n",
       "      <td>4</td>\n",
       "      <td>4</td>\n",
       "      <td>4</td>\n",
       "    </tr>\n",
       "  </tbody>\n",
       "</table>\n",
       "</div>"
      ],
      "text/plain": [
       "                                                 Question  Topic_SVD  \\\n",
       "6557                               best doctor doom story          0   \n",
       "139264            newton ring circular shape square shape          1   \n",
       "240135  doe wikipedia ensure content quality authentic...          1   \n",
       "3336                height would year old increase height          4   \n",
       "238994                                    many people sex          4   \n",
       "288817                     famous story swami vivekananda          0   \n",
       "127604                       forget someone love strongly          7   \n",
       "80065   sahara average temperature compare one great v...          1   \n",
       "134165           whats romantic thing anyone ha ever done          4   \n",
       "\n",
       "        Topic_NMF  Topic_RSVD  Topic_RSVD_FB  \n",
       "6557            0           0              4  \n",
       "139264          1           1              1  \n",
       "240135          1           1              0  \n",
       "3336            4           1              7  \n",
       "238994          4           4              4  \n",
       "288817          4           0              4  \n",
       "127604          4           6              4  \n",
       "80065           1           1              0  \n",
       "134165          4           4              4  "
      ]
     },
     "execution_count": 52,
     "metadata": {},
     "output_type": "execute_result"
    }
   ],
   "source": [
    "#print topics predicted for test set\n",
    "#====================================\n",
    "df_test.iloc[1:10,:]"
   ]
  },
  {
   "cell_type": "markdown",
   "metadata": {},
   "source": [
    "# Latent Dirichlet Allocation - LDA"
   ]
  },
  {
   "cell_type": "code",
   "execution_count": 53,
   "metadata": {},
   "outputs": [],
   "source": [
    "model_lda = LatentDirichletAllocation(n_components=8,random_state=42)"
   ]
  },
  {
   "cell_type": "code",
   "execution_count": 54,
   "metadata": {},
   "outputs": [
    {
     "data": {
      "text/plain": [
       "LatentDirichletAllocation(batch_size=128, doc_topic_prior=None,\n",
       "                          evaluate_every=-1, learning_decay=0.7,\n",
       "                          learning_method='batch', learning_offset=10.0,\n",
       "                          max_doc_update_iter=100, max_iter=10,\n",
       "                          mean_change_tol=0.001, n_components=8, n_jobs=None,\n",
       "                          perp_tol=0.1, random_state=42, topic_word_prior=None,\n",
       "                          total_samples=1000000.0, verbose=0)"
      ]
     },
     "execution_count": 54,
     "metadata": {},
     "output_type": "execute_result"
    }
   ],
   "source": [
    "# fit the model to train data\n",
    "#=============================\n",
    "model_lda.fit(train_vectors)"
   ]
  },
  {
   "cell_type": "code",
   "execution_count": 55,
   "metadata": {},
   "outputs": [
    {
     "name": "stdout",
     "output_type": "stream",
     "text": [
      "8\n"
     ]
    },
    {
     "data": {
      "text/plain": [
       "array([[0.12500008, 0.12500015, 0.12501188, ..., 0.12500007, 0.12500003,\n",
       "        0.12500007],\n",
       "       [3.45507595, 0.12500017, 0.12500005, ..., 0.12500008, 1.26268529,\n",
       "        0.12500008],\n",
       "       [0.1250001 , 1.32565996, 0.12500004, ..., 0.12500008, 0.12500004,\n",
       "        0.12500008],\n",
       "       ...,\n",
       "       [0.12531073, 0.12500017, 1.5865983 , ..., 0.12511846, 0.12500004,\n",
       "        0.12510733],\n",
       "       [0.12500008, 0.1263455 , 0.12500004, ..., 0.12500007, 0.12500003,\n",
       "        0.12500006],\n",
       "       [0.12500008, 0.12500014, 0.12500003, ..., 0.12500006, 0.12500003,\n",
       "        0.12500006]])"
      ]
     },
     "execution_count": 55,
     "metadata": {},
     "output_type": "execute_result"
    }
   ],
   "source": [
    "print(len(model_lda.components_))\n",
    "model_lda.components_"
   ]
  },
  {
   "cell_type": "code",
   "execution_count": 56,
   "metadata": {},
   "outputs": [
    {
     "name": "stdout",
     "output_type": "stream",
     "text": [
      "THE TOP 15 WORDS FOR TOPIC #0\n",
      "['doe', 'exam', 'business', 'time', 'ask', 'way', 'prepare', 'answer', 'earn', 'best', 'online', 'make', 'question', 'quora', 'money']\n",
      "\n",
      "\n",
      "THE TOP 15 WORDS FOR TOPIC #1\n",
      "['visit', 'tv', 'time', 'place', 'song', 'good', 'watch', 'doe', 'movie', 'youtube', 'video', 'read', 'favorite', 'book', 'best']\n",
      "\n",
      "\n",
      "THE TOP 15 WORDS FOR TOPIC #2\n",
      "['depression', 'book', 'difference', 'window', 'review', 'learning', 'good', 'india', 'startup', 'digital', 'hair', 'marketing', 'doe', 'movie', 'best']\n",
      "\n",
      "\n",
      "THE TOP 15 WORDS FOR TOPIC #3\n",
      "['day', 'woman', 'buy', 'india', 'know', 'laptop', 'year', 'doe', 'phone', 'new', 'sex', 'thing', 'best', 'note', 'life']\n",
      "\n",
      "\n",
      "THE TOP 15 WORDS FOR TOPIC #4\n",
      "['election', 'doe', 'hillary', 'clinton', 'think', 'people', 'win', 'president', 'war', 'country', 'india', 'world', 'donald', 'love', 'trump']\n",
      "\n",
      "\n",
      "THE TOP 15 WORDS FOR TOPIC #5\n",
      "['sentence', 'email', 'difference', 'password', 'god', 'best', 'word', 'doe', 'skill', 'way', 'account', 'lose', 'improve', 'weight', 'english']\n",
      "\n",
      "\n",
      "THE TOP 15 WORDS FOR TOPIC #6\n",
      "['dream', 'dog', 'girlfriend', 'question', 'mean', 'guy', 'people', 'website', 'best', 'stop', 'increase', 'quora', 'like', 'girl', 'doe']\n",
      "\n",
      "\n",
      "THE TOP 15 WORDS FOR TOPIC #7\n",
      "['engineer', 'college', 'software', 'company', 'computer', 'student', 'good', 'doe', 'university', 'job', 'programming', 'language', 'engineering', 'learn', 'best']\n",
      "\n",
      "\n"
     ]
    }
   ],
   "source": [
    "#print top 15 words for the topics\n",
    "#==================================\n",
    "for index,topic in enumerate(model_lda.components_):\n",
    "    print(f'THE TOP 15 WORDS FOR TOPIC #{index}')\n",
    "    print([tfidf.get_feature_names()[i] for i in topic.argsort()[-15:]])\n",
    "    print('\\n')"
   ]
  },
  {
   "cell_type": "code",
   "execution_count": 57,
   "metadata": {},
   "outputs": [
    {
     "data": {
      "image/png": "[encoded data removed]",
      "text/plain": [
       "<Figure size 720x720 with 8 Axes>"
      ]
     },
     "metadata": {
      "needs_background": "light"
     },
     "output_type": "display_data"
    }
   ],
   "source": [
    "#plot training features\n",
    "#=======================\n",
    "\n",
    "feature_names = np.array(tfidf.get_feature_names())\n",
    "n_components = 8\n",
    "fig, axes = plt.subplots(2,4, figsize=(10, 10))\n",
    "for ax, coef in zip(axes.ravel(), model_lda.components_):\n",
    "    plot_important_features(coef, feature_names, top_n=10, ax=ax)\n",
    "    \n",
    "plt.tight_layout()"
   ]
  },
  {
   "cell_type": "code",
   "execution_count": 58,
   "metadata": {},
   "outputs": [
    {
     "data": {
      "text/plain": [
       "(121287, 8)"
      ]
     },
     "execution_count": 58,
     "metadata": {},
     "output_type": "execute_result"
    }
   ],
   "source": [
    "# predict on test set\n",
    "#=====================\n",
    "\n",
    "topic_test = model_lda.transform(test_vectors)\n",
    "topic_test.shape"
   ]
  },
  {
   "cell_type": "code",
   "execution_count": 59,
   "metadata": {},
   "outputs": [
    {
     "data": {
      "text/plain": [
       "array([4, 6, 1, ..., 2, 1, 7], dtype=int64)"
      ]
     },
     "execution_count": 59,
     "metadata": {},
     "output_type": "execute_result"
    }
   ],
   "source": [
    "topic_test.argmax(axis=1)"
   ]
  },
  {
   "cell_type": "code",
   "execution_count": 60,
   "metadata": {},
   "outputs": [
    {
     "name": "stderr",
     "output_type": "stream",
     "text": [
      "C:\\ProgramData\\Anaconda3\\lib\\site-packages\\ipykernel_launcher.py:1: SettingWithCopyWarning: \n",
      "A value is trying to be set on a copy of a slice from a DataFrame.\n",
      "Try using .loc[row_indexer,col_indexer] = value instead\n",
      "\n",
      "See the caveats in the documentation: http://pandas.pydata.org/pandas-docs/stable/user_guide/indexing.html#returning-a-view-versus-a-copy\n",
      "  \"\"\"Entry point for launching an IPython kernel.\n"
     ]
    }
   ],
   "source": [
    "df_test['Topic_LDA'] = topic_test.argmax(axis=1)"
   ]
  },
  {
   "cell_type": "code",
   "execution_count": 61,
   "metadata": {},
   "outputs": [
    {
     "data": {
      "text/html": [
       "<div>\n",
       "<style scoped>\n",
       "    .dataframe tbody tr th:only-of-type {\n",
       "        vertical-align: middle;\n",
       "    }\n",
       "\n",
       "    .dataframe tbody tr th {\n",
       "        vertical-align: top;\n",
       "    }\n",
       "\n",
       "    .dataframe thead th {\n",
       "        text-align: right;\n",
       "    }\n",
       "</style>\n",
       "<table border=\"1\" class=\"dataframe\">\n",
       "  <thead>\n",
       "    <tr style=\"text-align: right;\">\n",
       "      <th></th>\n",
       "      <th>Question</th>\n",
       "      <th>Topic_SVD</th>\n",
       "      <th>Topic_NMF</th>\n",
       "      <th>Topic_RSVD</th>\n",
       "      <th>Topic_RSVD_FB</th>\n",
       "      <th>Topic_LDA</th>\n",
       "    </tr>\n",
       "  </thead>\n",
       "  <tbody>\n",
       "    <tr>\n",
       "      <td>6557</td>\n",
       "      <td>best doctor doom story</td>\n",
       "      <td>0</td>\n",
       "      <td>0</td>\n",
       "      <td>0</td>\n",
       "      <td>4</td>\n",
       "      <td>6</td>\n",
       "    </tr>\n",
       "    <tr>\n",
       "      <td>139264</td>\n",
       "      <td>newton ring circular shape square shape</td>\n",
       "      <td>1</td>\n",
       "      <td>1</td>\n",
       "      <td>1</td>\n",
       "      <td>1</td>\n",
       "      <td>1</td>\n",
       "    </tr>\n",
       "    <tr>\n",
       "      <td>240135</td>\n",
       "      <td>doe wikipedia ensure content quality authentic...</td>\n",
       "      <td>1</td>\n",
       "      <td>1</td>\n",
       "      <td>1</td>\n",
       "      <td>0</td>\n",
       "      <td>0</td>\n",
       "    </tr>\n",
       "    <tr>\n",
       "      <td>3336</td>\n",
       "      <td>height would year old increase height</td>\n",
       "      <td>4</td>\n",
       "      <td>4</td>\n",
       "      <td>1</td>\n",
       "      <td>7</td>\n",
       "      <td>6</td>\n",
       "    </tr>\n",
       "    <tr>\n",
       "      <td>238994</td>\n",
       "      <td>many people sex</td>\n",
       "      <td>4</td>\n",
       "      <td>4</td>\n",
       "      <td>4</td>\n",
       "      <td>4</td>\n",
       "      <td>3</td>\n",
       "    </tr>\n",
       "    <tr>\n",
       "      <td>288817</td>\n",
       "      <td>famous story swami vivekananda</td>\n",
       "      <td>0</td>\n",
       "      <td>4</td>\n",
       "      <td>0</td>\n",
       "      <td>4</td>\n",
       "      <td>6</td>\n",
       "    </tr>\n",
       "    <tr>\n",
       "      <td>127604</td>\n",
       "      <td>forget someone love strongly</td>\n",
       "      <td>7</td>\n",
       "      <td>4</td>\n",
       "      <td>6</td>\n",
       "      <td>4</td>\n",
       "      <td>1</td>\n",
       "    </tr>\n",
       "    <tr>\n",
       "      <td>80065</td>\n",
       "      <td>sahara average temperature compare one great v...</td>\n",
       "      <td>1</td>\n",
       "      <td>1</td>\n",
       "      <td>1</td>\n",
       "      <td>0</td>\n",
       "      <td>7</td>\n",
       "    </tr>\n",
       "    <tr>\n",
       "      <td>134165</td>\n",
       "      <td>whats romantic thing anyone ha ever done</td>\n",
       "      <td>4</td>\n",
       "      <td>4</td>\n",
       "      <td>4</td>\n",
       "      <td>4</td>\n",
       "      <td>1</td>\n",
       "    </tr>\n",
       "  </tbody>\n",
       "</table>\n",
       "</div>"
      ],
      "text/plain": [
       "                                                 Question  Topic_SVD  \\\n",
       "6557                               best doctor doom story          0   \n",
       "139264            newton ring circular shape square shape          1   \n",
       "240135  doe wikipedia ensure content quality authentic...          1   \n",
       "3336                height would year old increase height          4   \n",
       "238994                                    many people sex          4   \n",
       "288817                     famous story swami vivekananda          0   \n",
       "127604                       forget someone love strongly          7   \n",
       "80065   sahara average temperature compare one great v...          1   \n",
       "134165           whats romantic thing anyone ha ever done          4   \n",
       "\n",
       "        Topic_NMF  Topic_RSVD  Topic_RSVD_FB  Topic_LDA  \n",
       "6557            0           0              4          6  \n",
       "139264          1           1              1          1  \n",
       "240135          1           1              0          0  \n",
       "3336            4           1              7          6  \n",
       "238994          4           4              4          3  \n",
       "288817          4           0              4          6  \n",
       "127604          4           6              4          1  \n",
       "80065           1           1              0          7  \n",
       "134165          4           4              4          1  "
      ]
     },
     "execution_count": 61,
     "metadata": {},
     "output_type": "execute_result"
    }
   ],
   "source": [
    "#print topics predicted for test set\n",
    "#====================================\n",
    "df_test.iloc[1:10,:]"
   ]
  },
  {
   "cell_type": "markdown",
   "metadata": {},
   "source": [
    "# Conclusion and Explanation"
   ]
  },
  {
   "cell_type": "markdown",
   "metadata": {},
   "source": [
    "I have grouped words into 8 meaningful topics. The words are classified into categories like recreation, emotions, social networking, revenue, economy, education, romance and election & politics.\n",
    "\n",
    "The strong dependencies of the Words like 'presidency','vote', 'Hillary', 'president', 'clinton', 'win', 'donald', 'trump' indicate these belong to election & politics topic. Similarly other topics include related words. "
   ]
  },
  {
   "cell_type": "markdown",
   "metadata": {},
   "source": [
    "From the above results we can see that with 8 components SVD, NMF, R-SVD & R-SVD FB predict almost similar topics. LDA provides different set of topic predictions for the same documents.   "
   ]
  },
  {
   "cell_type": "code",
   "execution_count": null,
   "metadata": {},
   "outputs": [],
   "source": []
  }
 ],
 "metadata": {
  "kernelspec": {
   "display_name": "Python 3",
   "language": "python",
   "name": "python3"
  },
  "language_info": {
   "codemirror_mode": {
    "name": "ipython",
    "version": 3
   },
   "file_extension": ".py",
   "mimetype": "text/x-python",
   "name": "python",
   "nbconvert_exporter": "python",
   "pygments_lexer": "ipython3",
   "version": "3.7.4"
  }
 },
 "nbformat": 4,
 "nbformat_minor": 2
}
